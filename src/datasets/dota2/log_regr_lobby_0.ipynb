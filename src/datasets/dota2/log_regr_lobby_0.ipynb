{
 "cells": [
  {
   "cell_type": "code",
   "execution_count": 1,
   "metadata": {
    "collapsed": false
   },
   "outputs": [],
   "source": [
    "from sklearn.ensemble import GradientBoostingClassifier\n",
    "import pandas as pd\n",
    "from sklearn.preprocessing import scale\n",
    "from sklearn.preprocessing import StandardScaler\n",
    "import numpy as np\n",
    "import sklearn.cross_validation as cv\n",
    "import time\n",
    "import datetime\n",
    "from sklearn.linear_model import LogisticRegression\n",
    "from sklearn.grid_search import GridSearchCV\n",
    "from sklearn.feature_selection import VarianceThreshold\n",
    "from sklearn.ensemble import ExtraTreesClassifier\n",
    "from sklearn.feature_selection import SelectFromModel\n",
    "from sklearn.feature_selection import SelectKBest\n",
    "from sklearn.feature_selection import chi2\n",
    "from sklearn.svm import LinearSVC\n",
    "from sklearn.preprocessing import Imputer\n",
    "from sklearn.preprocessing import OneHotEncoder\n",
    "from sklearn.cross_validation import train_test_split\n",
    "from sklearn.metrics import roc_auc_score\n",
    "from sklearn.metrics import accuracy_score\n",
    "import matplotlib.pylab as plt\n",
    "from matplotlib.pylab import rcParams\n",
    "import operator\n",
    "import math\n",
    "import itertools\n",
    "from sklearn.cross_validation import train_test_split\n",
    "%matplotlib inline\n",
    "\n",
    "def add_heroes_bags(data):\n",
    "    hero_cols = data.columns[data.columns.str.contains('hero')]\n",
    "    X_pick = np.zeros((data.shape[0], 112))\n",
    "    for i, match_id in enumerate(data.index):\n",
    "        for p in xrange(5):\n",
    "            X_pick[i, data.ix[match_id, 'r%d_hero' % (p+1)]-1] = 1\n",
    "            X_pick[i, data.ix[match_id, 'd%d_hero' % (p+1)]-1] = -1\n",
    "    data = data.drop(hero_cols,axis=1)\n",
    "    return np.hstack((data.values, X_pick))\n",
    "\n",
    "def get_heroes_data(filename):\n",
    "    data = get_train_data(filename, replace=False)\n",
    "    hero_cols = data.columns[data.columns.str.contains('hero')]\n",
    "    data = data[hero_cols]\n",
    "#     return add_heroes_bags(data)\n",
    "    return data\n",
    "\n",
    "def fill_nans(data):\n",
    "    data['first_blood_team'].replace(0,-1)\n",
    "    data['first_blood_team'] = data['first_blood_team'].fillna(0)\n",
    "    nullcols = list(data.columns[data.isnull().any(axis=0)].values)\n",
    "    for nil in nullcols:\n",
    "        data[nil] = data[nil].fillna(data[nil].median())\n",
    "    return data\n",
    "\n",
    "def replace_col_withsum(data, name):\n",
    "    cols = data.columns[data.columns.str.contains(name)]\n",
    "    data[name] = data[cols[cols.str.contains('^r')]].sum(axis=1) - data[cols[cols.str.contains('^d')]].sum(axis=1)\n",
    "    data = data.drop(cols,axis=1)\n",
    "    return data\n",
    "\n",
    "def iqr_clean(data, col):\n",
    "    q75, q25 = np.percentile(data[col], [75 ,25])\n",
    "    iqr = q75 - q25\n",
    "    d1 = q25 - 1.5 * iqr\n",
    "    d2 = q75 + 1.5 * iqr\n",
    "    data = data[data[col] > d1]\n",
    "    data = data[data[col] < d2]\n",
    "    return data\n",
    "    \n",
    "def get_test_data(filename):\n",
    "    data = pd.read_csv(filename, index_col=None)\n",
    "    data = fill_nans(data)\n",
    "    data = replace_col_withsum(data,'level')\n",
    "    data = replace_col_withsum(data,'gold')\n",
    "    data = replace_col_withsum(data,'xp')\n",
    "    data = replace_col_withsum(data,'kills')\n",
    "    data = replace_col_withsum(data,'lh')\n",
    "    data = replace_col_withsum(data,'items')\n",
    "    data = replace_col_withsum(data,'deaths')\n",
    "    return data\n",
    "\n",
    "def get_train_data(filename, replace=True):\n",
    "    data = pd.read_csv(filename, index_col='match_id')\n",
    "    data = iqr_clean(data,'duration')\n",
    "    data['radiant_win'] = data['radiant_win'].replace(0, -1)\n",
    "    data = data.drop(['duration',\n",
    "                              'tower_status_radiant',\n",
    "                              'tower_status_dire',\n",
    "                              'barracks_status_radiant',\n",
    "                              'barracks_status_dire'],\n",
    "                     axis=1)\n",
    "\n",
    "    data = fill_nans(data)\n",
    "    if replace:\n",
    "        data = replace_col_withsum(data,'level')\n",
    "        data = replace_col_withsum(data,'gold')\n",
    "        data = replace_col_withsum(data,'xp')\n",
    "        data = replace_col_withsum(data,'kills')\n",
    "        data = replace_col_withsum(data,'lh')\n",
    "        data = replace_col_withsum(data,'items')\n",
    "        data = replace_col_withsum(data,'deaths')  \n",
    "    return data\n",
    "\n",
    "def get_lobby_games(data, lobby):\n",
    "    data = data[data['lobby_type'] == lobby]\n",
    "    del data['lobby_type']\n",
    "    target = data['radiant_win']\n",
    "    target = target.replace(0, -1)\n",
    "    del data['radiant_win']\n",
    "    return data, target\n",
    "\n",
    "def get_lobby_games_no_target_split(data, lobby):\n",
    "    data = data[data['lobby_type'] == lobby]\n",
    "    del data['lobby_type']\n",
    "    return data"
   ]
  },
  {
   "cell_type": "code",
   "execution_count": 10,
   "metadata": {
    "collapsed": false
   },
   "outputs": [
    {
     "name": "stdout",
     "output_type": "stream",
     "text": [
      "(12482L, 140L)\n"
     ]
    }
   ],
   "source": [
    "data = get_train_data('features.csv')\n",
    "data, target = get_lobby_games(data, 0)\n",
    "data = add_heroes_bags(data) \n",
    "ss = StandardScaler()\n",
    "X_train = ss.fit_transform(X=data, y=target)\n",
    "print X_train.shape"
   ]
  },
  {
   "cell_type": "code",
   "execution_count": 11,
   "metadata": {
    "collapsed": false
   },
   "outputs": [
    {
     "name": "stdout",
     "output_type": "stream",
     "text": [
      "241 random state:\n",
      "0.756873474962\n",
      "random state 5 folds:\n",
      "0.755890595278\n"
     ]
    }
   ],
   "source": [
    "kf = cv.KFold(X_train.shape[0], n_folds=5, shuffle=True, random_state=241)\n",
    "lr = LogisticRegression(penalty='l2', random_state=241, n_jobs=-1, C=0.005)\n",
    "cs_result = cv.cross_val_score(lr, X=X_train, y=target, cv=kf, scoring='roc_auc', n_jobs=-1)\n",
    "print '241 random state:'\n",
    "print cs_result.mean()\n",
    "print 'random state 5 folds:'\n",
    "cs_results = []\n",
    "randoms = np.random.randint(1, 255, 5)\n",
    "for i in randoms:\n",
    "    kf = cv.KFold(X_train.shape[0], n_folds=5, shuffle=True, random_state=i)\n",
    "    lr = LogisticRegression(penalty='l2', random_state=i, n_jobs=-1, C=0.005)\n",
    "    cs_result = cv.cross_val_score(lr, X=X_train, y=target, cv=kf, scoring='roc_auc', n_jobs=-1)\n",
    "    cs_results.append(cs_result)\n",
    "print np.mean(cs_results)"
   ]
  },
  {
   "cell_type": "code",
   "execution_count": null,
   "metadata": {
    "collapsed": true
   },
   "outputs": [],
   "source": [
    "lr = LogisticRegression(penalty='l2', random_state=241, n_jobs=-1, C=0.005)\n",
    "test = get_test_data('features_test.csv')\n",
    "test = test[test['lobby_type'] == 0]\n",
    "del test['lobby_type']\n",
    "match_ids = test['match_id']\n",
    "del test['match_id']\n",
    "test = add_heroes_bags(test)\n",
    "print test.shape\n",
    "test = ss.transform(X=test)\n",
    "lr.fit(X=X_train, y=target)\n",
    "predicted = lr.predict_proba(test)\n",
    "d = {'match_id': match_ids, 'radiant_win': predicted[:,1]}\n",
    "df_result = pd.DataFrame(data=d, index=None)\n",
    "print df_result[:10]\n",
    "df_result.to_csv('submission', sep=',', encoding='utf-8', index=False)"
   ]
  },
  {
   "cell_type": "code",
   "execution_count": null,
   "metadata": {
    "collapsed": false
   },
   "outputs": [],
   "source": [
    "train, target = get_train_data_target('features_team_items.csv')\n",
    "print train.shape\n",
    "ss = StandardScaler()\n",
    "X_train = ss.fit_transform(X=train, y=target)"
   ]
  },
  {
   "cell_type": "code",
   "execution_count": null,
   "metadata": {
    "collapsed": false
   },
   "outputs": [],
   "source": [
    "for i in xrange(1, 6):\n",
    "    print i\n",
    "    lr = LogisticRegression(penalty='l2', random_state=i, n_jobs=-1)\n",
    "    # params = {'C': [0.0001, 0.0005, 0.001, 0.005, 0.01, 0.05, 0.1, 0.5]}\n",
    "    # params = {'C': [0.001, 0.002, 0.003, 0.004, 0.005, 0.006, 0.007, 0.008, 0.009]}\n",
    "    # params = {'C': [0.001, 0.0052, 0.0053, 0.0054, 0.0055, 0.0056, 0.0057, 0.0058, 0.0059]}\n",
    "    # params = {'C': [0.00521, 0.00522, 0.00523, 0.00524, 0.00525, 0.00526, 0.00527, 0.00528, 0.00529]}\n",
    "    # params = {'C': [0.005241, 0.005242, 0.005243, 0.005244, 0.005245, 0.005246, 0.005247, 0.005248, 0.005249]}\n",
    "    gs = GridSearchCV(estimator=lr, param_grid=params, scoring='roc_auc', n_jobs=-1,iid=False, cv=5)\n",
    "    gs.fit(X_train, target)\n",
    "    gs.grid_scores_, gs.best_params_, gs.best_score_"
   ]
  },
  {
   "cell_type": "code",
   "execution_count": null,
   "metadata": {
    "collapsed": false
   },
   "outputs": [],
   "source": [
    "cs_res_hp = []\n",
    "cs_res_np = []\n",
    "for j in xrange(5):\n",
    "    cs_results = []\n",
    "    randoms = np.random.randint(1, 255, 5)\n",
    "    for i in randoms:\n",
    "        print i\n",
    "        kf = cv.KFold(X_train.shape[0], n_folds=5, shuffle=True, random_state=i)\n",
    "        lr = LogisticRegression(penalty='l2', random_state=i, n_jobs=-1, C=0.005247)\n",
    "        cs_result = cv.cross_val_score(lr, X=X_train, y=target, cv=kf, scoring='roc_auc', n_jobs=-1)\n",
    "        print cs_result\n",
    "        print cs_result.mean()\n",
    "        cs_results.append(cs_result.mean())\n",
    "    cs_res_hp.append(np.mean(cs_results))\n",
    "\n",
    "    cs_results = []\n",
    "    for i in randoms:\n",
    "        print i\n",
    "        kf = cv.KFold(X_train.shape[0], n_folds=5, shuffle=True, random_state=i)\n",
    "        lr = LogisticRegression(penalty='l2', random_state=i, n_jobs=-1, C=0.005)\n",
    "        cs_result = cv.cross_val_score(lr, X=X_train, y=target, cv=kf, scoring='roc_auc', n_jobs=-1)\n",
    "        print cs_result\n",
    "        print cs_result.mean()\n",
    "        cs_results.append(cs_result.mean())\n",
    "    print np.mean(cs_results)\n",
    "    cs_res_np.append(np.mean(cs_results))\n",
    "print np.mean(cs_res_hp)\n",
    "print np.mean(cs_res_np)"
   ]
  },
  {
   "cell_type": "code",
   "execution_count": null,
   "metadata": {
    "collapsed": false
   },
   "outputs": [],
   "source": [
    "df_test = pd.read_csv('features_test.csv', index_col='match_id')\n",
    "print df_test['lobby_type'].value_counts()\n",
    "print df_test.shape"
   ]
  },
  {
   "cell_type": "code",
   "execution_count": null,
   "metadata": {
    "collapsed": true
   },
   "outputs": [],
   "source": [
    "df_ab = pd.read_csv('features_test_team_items_abilities.csv', index_col=None)\n",
    "df_items = pd.read_csv('features_test_team_items.csv', index_col=None)\n",
    "ab = df_ab[df_ab.columns[df_ab.columns.str.contains('ability')]]\n",
    "print ab.shape\n",
    "print df_items.shape\n",
    "joined = df_items.join(ab)\n",
    "print joined.shape\n",
    "joined.to_csv('features_test_team_items_abilities.csv', sep=',', encoding='utf-8', index=False)\n",
    "# ab = df_ab.columns[[df_ab.columns.str.contains('ability')]]\n",
    "# print ab.shape"
   ]
  },
  {
   "cell_type": "markdown",
   "metadata": {},
   "source": [
    "### Подготовка данных для NEAT"
   ]
  },
  {
   "cell_type": "code",
   "execution_count": 3,
   "metadata": {
    "collapsed": false
   },
   "outputs": [
    {
     "name": "stdout",
     "output_type": "stream",
     "text": [
      "(12482L, 203L)\n"
     ]
    }
   ],
   "source": [
    "data = get_train_data('features.csv', replace=False)\n",
    "data, target = get_lobby_games(data, 0)\n",
    "data = add_heroes_bags(data) \n",
    "print data.shape"
   ]
  },
  {
   "cell_type": "code",
   "execution_count": 4,
   "metadata": {
    "collapsed": false
   },
   "outputs": [
    {
     "name": "stdout",
     "output_type": "stream",
     "text": [
      "(9985L, 204L)\n",
      "(2497L, 204L)\n"
     ]
    }
   ],
   "source": [
    "target.replace(-1, 0, inplace=True)\n",
    "stacked_data = np.hstack((data, np.mat(target.values).T))\n",
    "train, test = train_test_split(stacked_data, test_size=0.2, random_state=241)\n",
    "y_train = train[:,-1]\n",
    "y_test = test[:,-1]\n",
    "ss = StandardScaler()\n",
    "X_train = ss.fit_transform(X=train[:,:-1], y=y_train)\n",
    "stacked_train = np.hstack((X_train, np.mat(y_train)))\n",
    "np.savetxt('dota_train.csv', stacked_train, delimiter=',', fmt='%.12f')\n",
    "print stacked_train.shape\n",
    "\n",
    "X_test = ss.transform(X=test[:,:-1])\n",
    "stacked_test = np.hstack((X_test, np.mat(y_test)))\n",
    "np.savetxt('dota_test.csv', stacked_test, delimiter=',', fmt='%.12f')\n",
    "print stacked_test.shape\n",
    "\n",
    "# df_test = pd.DataFrame.from_records(data=test, columns=None)\n",
    "# # df_test = df_test.applymap(lambda x: '%.4f' % x)\n",
    "# print df_test.shape\n",
    "# df_test.to_csv('clean_dota2_test_lobby0.csv', sep=',', encoding='utf-8', index=False)"
   ]
  },
  {
   "cell_type": "code",
   "execution_count": 2,
   "metadata": {
    "collapsed": false
   },
   "outputs": [
    {
     "name": "stdout",
     "output_type": "stream",
     "text": [
      "(12482L, 140L)\n",
      "(12482L, 140L)\n",
      "(9985L, 140L)\n",
      "(2497L, 140L)\n",
      "(9985L,)\n",
      "(2497L,)\n"
     ]
    }
   ],
   "source": [
    "data = get_train_data('features.csv')\n",
    "data, target = get_lobby_games(data, 0)\n",
    "target.replace(-1, 0, inplace=True)\n",
    "data = add_heroes_bags(data) \n",
    "print data.shape\n",
    "ss = StandardScaler()\n",
    "X_train = ss.fit_transform(X=data, y=target)\n",
    "print X_train.shape\n",
    "X_train, X_test, y_train, y_test = train_test_split(X_train, target, test_size=0.2, random_state=241)\n",
    "print X_train.shape\n",
    "print X_test.shape\n",
    "print y_train.shape\n",
    "print y_test.shape"
   ]
  },
  {
   "cell_type": "code",
   "execution_count": 3,
   "metadata": {
    "collapsed": false
   },
   "outputs": [],
   "source": [
    "df = pd.DataFrame.from_records(X_train, index=None)\n",
    "df['radiant_win'] = pd.Series(np.array(y_train), index=None)\n",
    "df.to_csv('dota_train.csv', delimeter=',', index=False, header=None, encoding='utf-8')\n",
    "\n",
    "df = pd.DataFrame.from_records(X_test, index=None)\n",
    "df['radiant_win'] = pd.Series(np.array(y_test), index=None)\n",
    "df.to_csv('dota_test.csv', delimeter=',', index=False, header=None, encoding='utf-8')"
   ]
  },
  {
   "cell_type": "code",
   "execution_count": 7,
   "metadata": {
    "collapsed": false
   },
   "outputs": [
    {
     "name": "stdout",
     "output_type": "stream",
     "text": [
      "auc train lr:         0.77283695781\n",
      "auc train neat:       0.747937252979\n",
      "auc test lr:          0.748110534989\n",
      "auc test neat:        0.729887159093\n",
      "accuracy train lr:    0.697145718578\n",
      "accuracy train neat:  0.648072108162\n",
      "accuracy test lr:     0.683219863837\n",
      "accuracy test neat:   0.621545855026\n"
     ]
    }
   ],
   "source": [
    "df_train = pd.read_csv('dota_train.csv', index_col=None, header=None)\n",
    "df_test = pd.read_csv('dota_test.csv', index_col=None, header=None)\n",
    "\n",
    "target_train = df_train.ix[:, len(df_train.columns)-1]\n",
    "target_test = df_test.ix[:, len(df_test.columns)-1]\n",
    "\n",
    "df_train.drop([df_train.columns[len(df_train.columns)-1]],inplace=True,axis=1)\n",
    "df_test.drop([df_test.columns[len(df_test.columns)-1]],inplace=True,axis=1)\n",
    "\n",
    "df_neat_pred = pd.read_csv('neat\\predicted_proba.txt', index_col=None, header=None, sep=' ')\n",
    "df_neat_pred_train = pd.read_csv('neat\\predicted_proba_train.txt', index_col=None, header=None, sep=' ')\n",
    "\n",
    "lr = LogisticRegression(penalty='l2', random_state=241, n_jobs=-1, C=0.005)\n",
    "lr.fit(df_train, target_train)\n",
    "\n",
    "print 'auc train lr:        ', roc_auc_score(target_train, lr.predict_proba(df_train)[:,1])\n",
    "print 'auc train neat:      ', roc_auc_score(target_train, df_neat_pred_train) \n",
    "print 'auc test lr:         ', roc_auc_score(target_test, lr.predict_proba(df_test)[:,1])\n",
    "print 'auc test neat:       ', roc_auc_score(target_test, df_neat_pred)\n",
    "print 'accuracy train lr:   ', accuracy_score(target_train, lr.predict(df_train))\n",
    "print 'accuracy train neat: ', accuracy_score(target_train, np.rint(df_neat_pred_train))\n",
    "print 'accuracy test lr:    ', accuracy_score(target_test, lr.predict(df_test))\n",
    "print 'accuracy test neat:  ', accuracy_score(target_test, np.rint(df_neat_pred))"
   ]
  },
  {
   "cell_type": "code",
   "execution_count": null,
   "metadata": {
    "collapsed": false
   },
   "outputs": [],
   "source": [
    "df_neat_pred = pd.read_csv('neat\\predicted_proba.txt', index_col=None, header=None, sep=' ')\n",
    "df_neat_pred_train = pd.read_csv('neat\\predicted_proba_train.txt', index_col=None, header=None, sep=' ')\n",
    "lr = LogisticRegression(penalty='l2', random_state=241, n_jobs=-1, C=0.005)\n",
    "lr.fit(X_train, y_train)\n",
    "print 'auc train lr:        ', roc_auc_score(y_train, lr.predict_proba(X_train)[:,1])\n",
    "print 'auc train neat:      ', roc_auc_score(y_train, df_neat_pred_train) \n",
    "print 'auc test lr:         ', roc_auc_score(y_test, lr.predict_proba(X_test)[:,1])\n",
    "print 'auc test neat:       ', roc_auc_score(y_test, df_neat_pred)\n",
    "print 'accuracy train lr:   ', accuracy_score(y_train, lr.predict(X_train))\n",
    "print 'accuracy train neat: ', accuracy_score(y_train, np.rint(df_neat_pred_train))\n",
    "print 'accuracy test lr:    ', accuracy_score(y_test, lr.predict(X_test))\n",
    "print 'accuracy test neat:  ', accuracy_score(y_test, np.rint(df_neat_pred))"
   ]
  },
  {
   "cell_type": "code",
   "execution_count": null,
   "metadata": {
    "collapsed": false
   },
   "outputs": [],
   "source": [
    "print X_train[:1]"
   ]
  },
  {
   "cell_type": "code",
   "execution_count": null,
   "metadata": {
    "collapsed": false
   },
   "outputs": [],
   "source": [
    "print lr.predict_proba(X_train)[:,1][:10]"
   ]
  },
  {
   "cell_type": "code",
   "execution_count": null,
   "metadata": {
    "collapsed": false
   },
   "outputs": [],
   "source": [
    "print lr.coef_"
   ]
  },
  {
   "cell_type": "code",
   "execution_count": null,
   "metadata": {
    "collapsed": false
   },
   "outputs": [],
   "source": [
    "from collections import Counter\n",
    "print Counter(y_train)"
   ]
  },
  {
   "cell_type": "code",
   "execution_count": null,
   "metadata": {
    "collapsed": false
   },
   "outputs": [],
   "source": [
    "id=1\n",
    "with open('neat\\lr2.gnm.xml', 'w') as out:\n",
    "    for c in lr.coef_[0]:      \n",
    "        out.write('<Con id=\"%d\" src=\"%d\" tgt=\"141\" wght=\"%f\" />\\n' % (id,id,c))\n",
    "        id += 1\n",
    "# with open(\"neat\\genom2.gnm.xml\") as myfile:\n",
    "#     text = myfile.read()\n",
    "#     with open('neat\\lr2.gnm.xml', 'a') as out:\n",
    "#         out.write(text.format(*lr.coef_[0]))"
   ]
  }
 ],
 "metadata": {
  "kernelspec": {
   "display_name": "Python 2",
   "language": "python",
   "name": "python2"
  },
  "language_info": {
   "codemirror_mode": {
    "name": "ipython",
    "version": 2
   },
   "file_extension": ".py",
   "mimetype": "text/x-python",
   "name": "python",
   "nbconvert_exporter": "python",
   "pygments_lexer": "ipython2",
   "version": "2.7.11"
  }
 },
 "nbformat": 4,
 "nbformat_minor": 0
}
